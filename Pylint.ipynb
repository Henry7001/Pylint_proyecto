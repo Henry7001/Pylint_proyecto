{
  "nbformat": 4,
  "nbformat_minor": 0,
  "metadata": {
    "colab": {
      "name": "Pylint.ipynb",
      "provenance": [],
      "collapsed_sections": [],
      "include_colab_link": true
    },
    "kernelspec": {
      "name": "python3",
      "display_name": "Python 3"
    },
    "language_info": {
      "name": "python"
    }
  },
  "cells": [
    {
      "cell_type": "markdown",
      "metadata": {
        "id": "view-in-github",
        "colab_type": "text"
      },
      "source": [
        "<a href=\"https://colab.research.google.com/github/Henry7001/Pylint_proyecto/blob/main/Pylint.ipynb\" target=\"_parent\"><img src=\"https://colab.research.google.com/assets/colab-badge.svg\" alt=\"Open In Colab\"/></a>"
      ]
    },
    {
      "cell_type": "markdown",
      "metadata": {
        "id": "ntOoh3sPekR_"
      },
      "source": [
        "Importando librerías para mostrar imágenes"
      ]
    },
    {
      "cell_type": "code",
      "metadata": {
        "id": "ysX_NLlHebIf"
      },
      "source": [
        "import matplotlib.pyplot as plt\n",
        "import matplotlib.image as mpimg\n",
        "import numpy as np"
      ],
      "execution_count": 1,
      "outputs": []
    },
    {
      "cell_type": "markdown",
      "metadata": {
        "id": "q1IE5w-IZ1AW"
      },
      "source": [
        "Instalar dependencias de PyLint"
      ]
    },
    {
      "cell_type": "code",
      "metadata": {
        "id": "veCiaNPXS5U-"
      },
      "source": [
        "!pip install pylint"
      ],
      "execution_count": null,
      "outputs": []
    },
    {
      "cell_type": "markdown",
      "metadata": {
        "id": "GSw0s79SaR0t"
      },
      "source": [
        "Generar diagrama UML"
      ]
    },
    {
      "cell_type": "code",
      "metadata": {
        "id": "_PGlUGZIp9l-"
      },
      "source": [
        "!git clone https://github.com/Henry7001/Pylint_proyecto.git\n",
        "!pyreverse -S /content/Pylint_proyecto/bot.py\n",
        "!dot -Tpng classes.dot -o uml.png\n",
        "img = plt.imshow(mpimg.imread('uml.png'))\n",
        "img.axes.get_xaxis().set_visible(False)\n",
        "img.axes.get_yaxis().set_visible(False)\n",
        "plt.show()"
      ],
      "execution_count": null,
      "outputs": []
    },
    {
      "cell_type": "markdown",
      "metadata": {
        "id": "qsZY9EAXajzc"
      },
      "source": [
        "Sugerencias para el arreglo del código (Code-Smells)"
      ]
    },
    {
      "cell_type": "code",
      "metadata": {
        "id": "mFnz24Yxarjw"
      },
      "source": [
        "!pylint /content/Pylint_proyecto/bot.py"
      ],
      "execution_count": null,
      "outputs": []
    }
  ]
}